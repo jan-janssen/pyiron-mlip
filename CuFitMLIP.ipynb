{
 "cells": [
  {
   "cell_type": "code",
   "execution_count": 1,
   "id": "cooperative-converter",
   "metadata": {},
   "outputs": [],
   "source": [
    "from pyiron_atomistics import Project\n",
    "import pyiron_contrib"
   ]
  },
  {
   "cell_type": "code",
   "execution_count": 2,
   "id": "demanding-spelling",
   "metadata": {},
   "outputs": [
    {
     "data": {
      "text/html": [
       "<div>\n",
       "<style scoped>\n",
       "    .dataframe tbody tr th:only-of-type {\n",
       "        vertical-align: middle;\n",
       "    }\n",
       "\n",
       "    .dataframe tbody tr th {\n",
       "        vertical-align: top;\n",
       "    }\n",
       "\n",
       "    .dataframe thead th {\n",
       "        text-align: right;\n",
       "    }\n",
       "</style>\n",
       "<table border=\"1\" class=\"dataframe\">\n",
       "  <thead>\n",
       "    <tr style=\"text-align: right;\">\n",
       "      <th></th>\n",
       "      <th>id</th>\n",
       "      <th>status</th>\n",
       "      <th>chemicalformula</th>\n",
       "      <th>job</th>\n",
       "      <th>subjob</th>\n",
       "      <th>projectpath</th>\n",
       "      <th>project</th>\n",
       "      <th>timestart</th>\n",
       "      <th>timestop</th>\n",
       "      <th>totalcputime</th>\n",
       "      <th>computer</th>\n",
       "      <th>hamilton</th>\n",
       "      <th>hamversion</th>\n",
       "      <th>parentid</th>\n",
       "      <th>masterid</th>\n",
       "    </tr>\n",
       "  </thead>\n",
       "  <tbody>\n",
       "    <tr>\n",
       "      <th>0</th>\n",
       "      <td>1</td>\n",
       "      <td>finished</td>\n",
       "      <td>None</td>\n",
       "      <td>df1_A1_A2_A3_EV_elast_phon</td>\n",
       "      <td>/df1_A1_A2_A3_EV_elast_phon</td>\n",
       "      <td>/home/jovyan/</td>\n",
       "      <td>Cu_database/Cu_database/</td>\n",
       "      <td>2021-02-08 10:33:52.341472</td>\n",
       "      <td>None</td>\n",
       "      <td>None</td>\n",
       "      <td>zora@cmti001#1</td>\n",
       "      <td>TrainingContainer</td>\n",
       "      <td>0.4</td>\n",
       "      <td>None</td>\n",
       "      <td>None</td>\n",
       "    </tr>\n",
       "    <tr>\n",
       "      <th>1</th>\n",
       "      <td>2</td>\n",
       "      <td>finished</td>\n",
       "      <td>None</td>\n",
       "      <td>df3_10k</td>\n",
       "      <td>/df3_10k</td>\n",
       "      <td>/home/jovyan/</td>\n",
       "      <td>Cu_database/Cu_database/</td>\n",
       "      <td>2021-02-08 10:33:53.993230</td>\n",
       "      <td>None</td>\n",
       "      <td>None</td>\n",
       "      <td>zora@cmti001#1</td>\n",
       "      <td>TrainingContainer</td>\n",
       "      <td>0.4</td>\n",
       "      <td>None</td>\n",
       "      <td>None</td>\n",
       "    </tr>\n",
       "    <tr>\n",
       "      <th>2</th>\n",
       "      <td>3</td>\n",
       "      <td>finished</td>\n",
       "      <td>None</td>\n",
       "      <td>df2_1k</td>\n",
       "      <td>/df2_1k</td>\n",
       "      <td>/home/jovyan/</td>\n",
       "      <td>Cu_database/Cu_database/</td>\n",
       "      <td>2021-02-08 10:33:54.435308</td>\n",
       "      <td>None</td>\n",
       "      <td>None</td>\n",
       "      <td>zora@cmti001#1</td>\n",
       "      <td>TrainingContainer</td>\n",
       "      <td>0.4</td>\n",
       "      <td>None</td>\n",
       "      <td>None</td>\n",
       "    </tr>\n",
       "  </tbody>\n",
       "</table>\n",
       "</div>"
      ],
      "text/plain": [
       "   id    status chemicalformula                         job  \\\n",
       "0   1  finished            None  df1_A1_A2_A3_EV_elast_phon   \n",
       "1   2  finished            None                     df3_10k   \n",
       "2   3  finished            None                      df2_1k   \n",
       "\n",
       "                        subjob    projectpath                   project  \\\n",
       "0  /df1_A1_A2_A3_EV_elast_phon  /home/jovyan/  Cu_database/Cu_database/   \n",
       "1                     /df3_10k  /home/jovyan/  Cu_database/Cu_database/   \n",
       "2                      /df2_1k  /home/jovyan/  Cu_database/Cu_database/   \n",
       "\n",
       "                   timestart timestop totalcputime        computer  \\\n",
       "0 2021-02-08 10:33:52.341472     None         None  zora@cmti001#1   \n",
       "1 2021-02-08 10:33:53.993230     None         None  zora@cmti001#1   \n",
       "2 2021-02-08 10:33:54.435308     None         None  zora@cmti001#1   \n",
       "\n",
       "            hamilton hamversion parentid masterid  \n",
       "0  TrainingContainer        0.4     None     None  \n",
       "1  TrainingContainer        0.4     None     None  \n",
       "2  TrainingContainer        0.4     None     None  "
      ]
     },
     "execution_count": 2,
     "metadata": {},
     "output_type": "execute_result"
    }
   ],
   "source": [
    "fit_pr = Project(\"Cu_database\")\n",
    "fit_pr.job_table()"
   ]
  },
  {
   "cell_type": "code",
   "execution_count": 3,
   "id": "supported-value",
   "metadata": {},
   "outputs": [],
   "source": [
    "if len(fit_pr.job_table()) == 0:\n",
    "    fit_pr.unpack(\"Cu_training_archive\")"
   ]
  },
  {
   "cell_type": "code",
   "execution_count": 4,
   "id": "composed-lincoln",
   "metadata": {},
   "outputs": [],
   "source": [
    "pr = Project(\"CuFitMLIP\")"
   ]
  },
  {
   "cell_type": "code",
   "execution_count": 5,
   "id": "japanese-cleaner",
   "metadata": {},
   "outputs": [
    {
     "data": {
      "text/html": [
       "<div>\n",
       "<style scoped>\n",
       "    .dataframe tbody tr th:only-of-type {\n",
       "        vertical-align: middle;\n",
       "    }\n",
       "\n",
       "    .dataframe tbody tr th {\n",
       "        vertical-align: top;\n",
       "    }\n",
       "\n",
       "    .dataframe thead th {\n",
       "        text-align: right;\n",
       "    }\n",
       "</style>\n",
       "<table border=\"1\" class=\"dataframe\">\n",
       "  <thead>\n",
       "    <tr style=\"text-align: right;\">\n",
       "      <th></th>\n",
       "      <th>id</th>\n",
       "      <th>status</th>\n",
       "      <th>chemicalformula</th>\n",
       "      <th>job</th>\n",
       "      <th>subjob</th>\n",
       "      <th>projectpath</th>\n",
       "      <th>project</th>\n",
       "      <th>timestart</th>\n",
       "      <th>timestop</th>\n",
       "      <th>totalcputime</th>\n",
       "      <th>computer</th>\n",
       "      <th>hamilton</th>\n",
       "      <th>hamversion</th>\n",
       "      <th>parentid</th>\n",
       "      <th>masterid</th>\n",
       "    </tr>\n",
       "  </thead>\n",
       "  <tbody>\n",
       "    <tr>\n",
       "      <th>0</th>\n",
       "      <td>4</td>\n",
       "      <td>finished</td>\n",
       "      <td>None</td>\n",
       "      <td>fit_100</td>\n",
       "      <td>/fit_100</td>\n",
       "      <td>/home/jovyan/</td>\n",
       "      <td>CuFitMLIP/</td>\n",
       "      <td>2021-02-19 13:59:07.879414</td>\n",
       "      <td>2021-02-19 13:59:08.817321</td>\n",
       "      <td>0.0</td>\n",
       "      <td>pyiron@jupyter-jan-2djanssen-2dpyiron-2dmlip-2dpjhmgn1g#1</td>\n",
       "      <td>Mlip</td>\n",
       "      <td>1.0.0</td>\n",
       "      <td>None</td>\n",
       "      <td>None</td>\n",
       "    </tr>\n",
       "  </tbody>\n",
       "</table>\n",
       "</div>"
      ],
      "text/plain": [
       "   id    status chemicalformula      job    subjob    projectpath     project  \\\n",
       "0   4  finished            None  fit_100  /fit_100  /home/jovyan/  CuFitMLIP/   \n",
       "\n",
       "                   timestart                   timestop  totalcputime  \\\n",
       "0 2021-02-19 13:59:07.879414 2021-02-19 13:59:08.817321           0.0   \n",
       "\n",
       "                                                    computer hamilton  \\\n",
       "0  pyiron@jupyter-jan-2djanssen-2dpyiron-2dmlip-2dpjhmgn1g#1     Mlip   \n",
       "\n",
       "  hamversion parentid masterid  \n",
       "0      1.0.0     None     None  "
      ]
     },
     "execution_count": 5,
     "metadata": {},
     "output_type": "execute_result"
    }
   ],
   "source": [
    "pr.job_table()"
   ]
  },
  {
   "cell_type": "code",
   "execution_count": 6,
   "id": "charming-palmer",
   "metadata": {},
   "outputs": [],
   "source": [
    "pr.remove_jobs_silently(recursive=True)"
   ]
  },
  {
   "cell_type": "code",
   "execution_count": 7,
   "id": "alive-peter",
   "metadata": {},
   "outputs": [],
   "source": [
    "j = pr.create.job.Mlip(\"fit_100\", delete_existing_job=True)"
   ]
  },
  {
   "cell_type": "code",
   "execution_count": 8,
   "id": "center-blocking",
   "metadata": {},
   "outputs": [
    {
     "data": {
      "text/plain": [
       "760"
      ]
     },
     "execution_count": 8,
     "metadata": {},
     "output_type": "execute_result"
    }
   ],
   "source": [
    "#j.input.potential = 'g.mtp'\n",
    "j.get_suggested_number_of_configuration()"
   ]
  },
  {
   "cell_type": "code",
   "execution_count": 9,
   "id": "surface-press",
   "metadata": {},
   "outputs": [
    {
     "data": {
      "text/plain": [
       "3"
      ]
     },
     "execution_count": 9,
     "metadata": {},
     "output_type": "execute_result"
    }
   ],
   "source": [
    "fit_pr.load('df2_1k').id"
   ]
  },
  {
   "cell_type": "code",
   "execution_count": 10,
   "id": "elementary-overall",
   "metadata": {},
   "outputs": [],
   "source": [
    "# need to manually specify end point for now\n",
    "j.add_job_to_fitting(fit_pr.load('df1_A1_A2_A3_EV_elast_phon').id, time_step_start=1, time_step_end=100, time_step_delta=1)"
   ]
  },
  {
   "cell_type": "code",
   "execution_count": 11,
   "id": "injured-briefing",
   "metadata": {},
   "outputs": [
    {
     "data": {
      "text/plain": [
       "1000"
      ]
     },
     "execution_count": 11,
     "metadata": {},
     "output_type": "execute_result"
    }
   ],
   "source": [
    "j.input[\"iteration\"]"
   ]
  },
  {
   "cell_type": "code",
   "execution_count": 12,
   "id": "julian-lighter",
   "metadata": {},
   "outputs": [
    {
     "name": "stdout",
     "output_type": "stream",
     "text": [
      "The job fit_100 was saved and received the ID: 4\n"
     ]
    }
   ],
   "source": [
    "j.run()"
   ]
  },
  {
   "cell_type": "code",
   "execution_count": 13,
   "id": "protective-administration",
   "metadata": {},
   "outputs": [
    {
     "data": {
      "text/html": [
       "<div>\n",
       "<style scoped>\n",
       "    .dataframe tbody tr th:only-of-type {\n",
       "        vertical-align: middle;\n",
       "    }\n",
       "\n",
       "    .dataframe tbody tr th {\n",
       "        vertical-align: top;\n",
       "    }\n",
       "\n",
       "    .dataframe thead th {\n",
       "        text-align: right;\n",
       "    }\n",
       "</style>\n",
       "<table border=\"1\" class=\"dataframe\">\n",
       "  <thead>\n",
       "    <tr style=\"text-align: right;\">\n",
       "      <th></th>\n",
       "      <th>id</th>\n",
       "      <th>status</th>\n",
       "      <th>chemicalformula</th>\n",
       "      <th>job</th>\n",
       "      <th>subjob</th>\n",
       "      <th>projectpath</th>\n",
       "      <th>project</th>\n",
       "      <th>timestart</th>\n",
       "      <th>timestop</th>\n",
       "      <th>totalcputime</th>\n",
       "      <th>computer</th>\n",
       "      <th>hamilton</th>\n",
       "      <th>hamversion</th>\n",
       "      <th>parentid</th>\n",
       "      <th>masterid</th>\n",
       "    </tr>\n",
       "  </thead>\n",
       "  <tbody>\n",
       "    <tr>\n",
       "      <th>0</th>\n",
       "      <td>4</td>\n",
       "      <td>finished</td>\n",
       "      <td>None</td>\n",
       "      <td>fit_100</td>\n",
       "      <td>/fit_100</td>\n",
       "      <td>/home/jovyan/</td>\n",
       "      <td>CuFitMLIP/</td>\n",
       "      <td>2021-02-19 13:59:46.365294</td>\n",
       "      <td>2021-02-19 13:59:47.029757</td>\n",
       "      <td>0.0</td>\n",
       "      <td>pyiron@jupyter-jan-2djanssen-2dpyiron-2dmlip-2dpjhmgn1g#1</td>\n",
       "      <td>Mlip</td>\n",
       "      <td>1.0.0</td>\n",
       "      <td>None</td>\n",
       "      <td>None</td>\n",
       "    </tr>\n",
       "  </tbody>\n",
       "</table>\n",
       "</div>"
      ],
      "text/plain": [
       "   id    status chemicalformula      job    subjob    projectpath     project  \\\n",
       "0   4  finished            None  fit_100  /fit_100  /home/jovyan/  CuFitMLIP/   \n",
       "\n",
       "                   timestart                   timestop  totalcputime  \\\n",
       "0 2021-02-19 13:59:46.365294 2021-02-19 13:59:47.029757           0.0   \n",
       "\n",
       "                                                    computer hamilton  \\\n",
       "0  pyiron@jupyter-jan-2djanssen-2dpyiron-2dmlip-2dpjhmgn1g#1     Mlip   \n",
       "\n",
       "  hamversion parentid masterid  \n",
       "0      1.0.0     None     None  "
      ]
     },
     "execution_count": 13,
     "metadata": {},
     "output_type": "execute_result"
    }
   ],
   "source": [
    "pr.job_table()"
   ]
  }
 ],
 "metadata": {
  "kernelspec": {
   "display_name": "Python 3",
   "language": "python",
   "name": "python3"
  },
  "language_info": {
   "codemirror_mode": {
    "name": "ipython",
    "version": 3
   },
   "file_extension": ".py",
   "mimetype": "text/x-python",
   "name": "python",
   "nbconvert_exporter": "python",
   "pygments_lexer": "ipython3",
   "version": "3.7.9"
  }
 },
 "nbformat": 4,
 "nbformat_minor": 5
}
